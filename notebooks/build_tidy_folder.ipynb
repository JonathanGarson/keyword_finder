{
 "cells": [
  {
   "attachments": {},
   "cell_type": "markdown",
   "metadata": {},
   "source": [
    "# Build the folder designed to save the data and tidy the documents"
   ]
  },
  {
   "cell_type": "code",
   "execution_count": 14,
   "metadata": {},
   "outputs": [],
   "source": [
    "import os\n",
    "import shutil"
   ]
  },
  {
   "attachments": {},
   "cell_type": "markdown",
   "metadata": {},
   "source": [
    "## Create the folder"
   ]
  },
  {
   "cell_type": "code",
   "execution_count": 11,
   "metadata": {},
   "outputs": [],
   "source": [
    "cwd = os.getcwd()\n",
    "\n",
    "# Define the folder structure\n",
    "folders_to_create = [\n",
    "    \"data/raw\",\n",
    "    \"data/text/raw_docx\",\n",
    "    \"data/text/treated_docx\"\n",
    "]\n",
    "\n",
    "# Create the folders\n",
    "for folder in folders_to_create:\n",
    "    os.makedirs(os.path.join(os.getcwd(), folder), exist_ok=True)"
   ]
  },
  {
   "attachments": {},
   "cell_type": "markdown",
   "metadata": {},
   "source": [
    "## Tidy the documents"
   ]
  },
  {
   "cell_type": "code",
   "execution_count": 18,
   "metadata": {},
   "outputs": [],
   "source": [
    "def move_docx_files(input_path:str, output_path:str):\n",
    "    '''Move all docx files from input_path to output_path'''\n",
    "    for file in os.listdir(input_path):\n",
    "        if file.endswith(\".docx\"):\n",
    "            shutil.move(os.path.join(input_path, file), output_path)\n",
    "\n",
    "def move_xlsx_files(input_path:str, output_path:str):\n",
    "    '''Move all xlsx files from input_path to output_path'''\n",
    "    for file in os.listdir(input_path):\n",
    "        if file.endswith(\".xlsx\"):\n",
    "            shutil.move(os.path.join(input_path, file), output_path)\n",
    "\n",
    "# Move the docx files\n",
    "move_docx_files(r\"../\", os.path.join(cwd, r\"../data/text/raw_text\"))\n",
    "move_xlsx_files(r\"../\", os.path.join(cwd, r\"../data/raw\"))"
   ]
  }
 ],
 "metadata": {
  "kernelspec": {
   "display_name": "venv",
   "language": "python",
   "name": "python3"
  },
  "language_info": {
   "codemirror_mode": {
    "name": "ipython",
    "version": 3
   },
   "file_extension": ".py",
   "mimetype": "text/x-python",
   "name": "python",
   "nbconvert_exporter": "python",
   "pygments_lexer": "ipython3",
   "version": "3.11.6"
  },
  "orig_nbformat": 4
 },
 "nbformat": 4,
 "nbformat_minor": 2
}
