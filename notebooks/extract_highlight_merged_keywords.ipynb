{
 "cells": [
  {
   "attachments": {},
   "cell_type": "markdown",
   "metadata": {},
   "source": [
    "# Extracts Paragraphs and Highlights the keyword in docx file"
   ]
  },
  {
   "cell_type": "code",
   "execution_count": 1,
   "metadata": {},
   "outputs": [],
   "source": [
    "import pandas as pd\n",
    "import glob\n",
    "import re\n",
    "import os\n",
    "from docx import Document\n",
    "from docx.enum.text import WD_COLOR"
   ]
  },
  {
   "cell_type": "code",
   "execution_count": 2,
   "metadata": {},
   "outputs": [],
   "source": [
    "df_kw = pd.read_excel(r'../data/raw/keywords.xlsx')\n",
    "df_kw.to_csv(r'../data/raw/keywords.csv', index=False)\n",
    "list_kw = df_kw.iloc[:, 0].tolist()"
   ]
  },
  {
   "cell_type": "code",
   "execution_count": 13,
   "metadata": {},
   "outputs": [],
   "source": [
    "# Set up regex\n",
    "patterns = [r'\\b' + word + r'\\b' for word in list_kw]\n",
    "re_highlight = re.compile('(' + '|'.join(p for p in patterns) + ')+', re.IGNORECASE)\n",
    "\n",
    "# Define a function to extract the file name without extension\n",
    "def extract_file_name(file: str):\n",
    "    \"\"\"\n",
    "    Extract the file name without extension\n",
    "\n",
    "    Args:\n",
    "        file: The file path\n",
    "\n",
    "    Returns:\n",
    "        The file name (str) without extension\n",
    "    \"\"\"\n",
    "    file_name = os.path.basename(file)\n",
    "    file_name_without_extension = os.path.splitext(file_name)[0]\n",
    "    return file_name_without_extension\n",
    "\n",
    "# Define a function to process all *.docx files in a folder\n",
    "def process_docx_files(input_folder_path:str, output_folder_path:str):\n",
    "    \"\"\"\n",
    "    Go over all the files in a directory, highlight the keywords, extract the paragraph and then save the modified paragraph to a new document\n",
    "\n",
    "    Args:\n",
    "        input_folder_path: The path to the folder containing the *.docx files\n",
    "        output_folder_path: The path to the folder to store the modified *.docx files\n",
    "    \"\"\"\n",
    "    docx_files = glob.glob(input_folder_path + r'/*.docx')\n",
    "    for file in docx_files:\n",
    "        doc = Document(file)\n",
    "        title = extract_file_name(file)  # Extract the file name without extension\n",
    "        modified_doc = Document()  # Create a new document to store modified paragraphs\n",
    "        modified_doc.add_heading(title, level=1)  # Add the title as Header 1 to the modified document\n",
    "        for para in doc.paragraphs:\n",
    "            text = para.text\n",
    "            if len(re_highlight.findall(text)) > 0:\n",
    "                matches = re_highlight.finditer(text)\n",
    "                p3 = 0\n",
    "                highlighted_para = modified_doc.add_paragraph()  # Add a new paragraph to the modified document\n",
    "                for match in matches:\n",
    "                    p1 = p3\n",
    "                    p2, p3 = match.span()\n",
    "                    highlighted_para.add_run(text[p1:p2])\n",
    "                    run = highlighted_para.add_run(text[p2:p3])\n",
    "                    run.font.highlight_color = WD_COLOR.YELLOW\n",
    "                    highlighted_para.add_run(text[p3:])\n",
    "        if modified_doc.paragraphs:  # Only save the modified document if it contains highlighted paragraphs\n",
    "            modified_doc.save(os.path.join(output_folder_path, rf\"{title}.docx\"))"
   ]
  },
  {
   "cell_type": "code",
   "execution_count": 14,
   "metadata": {},
   "outputs": [],
   "source": [
    "# Provide the folder path where the algorithm will iterate over all *.docx files\n",
    "input_folder_path = r'../data/text/raw_docx'\n",
    "output_folder_path = r'../data/text/treated_docx'\n",
    "process_docx_files(input_folder_path=input_folder_path, output_folder_path= output_folder_path)"
   ]
  },
  {
   "cell_type": "code",
   "execution_count": 15,
   "metadata": {},
   "outputs": [],
   "source": [
    "def merge_all_docx(input_folder_path:str, output_folder_path:str):\n",
    "    \"\"\"\n",
    "    Merge all the docx files in a folder into a single docx file\n",
    "\n",
    "    Args:\n",
    "        input_folder_path: The path to the folder containing the *.docx files\n",
    "        output_folder_path: The path to the folder to store the merged *.docx file\n",
    "    \"\"\"\n",
    "    docx_files = glob.glob(input_folder_path + r'/*.docx')\n",
    "    documents = [Document(docx) for docx in docx_files]\n",
    "    merged_document = Document()\n",
    "    for doc in documents:\n",
    "        for element in doc.element.body:\n",
    "            merged_document.element.body.append(element)\n",
    "    merged_document.save(output_folder_path + r'/final_merged.docx')\n",
    "    \n",
    "# Usage\n",
    "input_folder_path = r'../data/text/treated_docx'\n",
    "output_folder_path = r'../data/text'\n",
    "merge_all_docx(input_folder_path=input_folder_path, output_folder_path=output_folder_path)"
   ]
  }
 ],
 "metadata": {
  "kernelspec": {
   "display_name": "Python 3",
   "language": "python",
   "name": "python3"
  },
  "language_info": {
   "codemirror_mode": {
    "name": "ipython",
    "version": 3
   },
   "file_extension": ".py",
   "mimetype": "text/x-python",
   "name": "python",
   "nbconvert_exporter": "python",
   "pygments_lexer": "ipython3",
   "version": "3.11.6"
  },
  "orig_nbformat": 4
 },
 "nbformat": 4,
 "nbformat_minor": 2
}
